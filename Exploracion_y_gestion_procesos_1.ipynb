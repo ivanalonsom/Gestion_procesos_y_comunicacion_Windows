{
 "cells": [
  {
   "cell_type": "markdown",
   "metadata": {},
   "source": [
    "### 1.1 Listar Procesos Activos:\n",
    "\n",
    "    Crea un programa que pida una lista de nombres de procesos, y muestre por pantalla si dichos procesos están activos indicando el nombre, PID, y uso de memoria, o indicando que no se están ejecutando en caso contrario.\n",
    "    Filtra los procesos para que solo se muestren aquellos cuyo nombre contiene una palabra clave especificada por el usuario (por ejemplo, \"chrome\" o \"explorer\").\n",
    "    Maneja las posibles excepciones, como acceso denegado a ciertos procesos."
   ]
  },
  {
   "cell_type": "code",
   "execution_count": null,
   "metadata": {},
   "outputs": [],
   "source": [
    "import psutil       # Import necesario para ejercicio 1"
   ]
  },
  {
   "cell_type": "code",
   "execution_count": null,
   "metadata": {},
   "outputs": [],
   "source": [
    "def listar_procesos(clave):\n",
    "    procesos = []\n",
    "    for proc in psutil.process_iter(['pid', 'name', 'memory_info']):\n",
    "        try:\n",
    "            if clave.lower() in proc.info['name'].lower():\n",
    "                procesos.append(proc.info)\n",
    "        except (psutil.NoSuchProcess, psutil.AccessDenied, psutil.ZombieProcess):\n",
    "            pass\n",
    "    \n",
    "    return procesos\n",
    "\n",
    "\n",
    "if __name__ == \"__main__\":\n",
    "    clave = input(\"Ingrese palabra clave para filtrar procesos: \")\n",
    "    procesos = listar_procesos(clave)\n",
    "    \n",
    "    if procesos:\n",
    "        for p in procesos:\n",
    "            print(f\"Nombre: {p['name']}, PID: {p['pid']}, Memoria: {p['memory_info'].rss / (1024 * 1024):.2f} MB\")\n",
    "    else:\n",
    "        print(\"No se encontraron procesos activos con la palabra clave.\")\n"
   ]
  },
  {
   "cell_type": "markdown",
   "metadata": {},
   "source": [
    "### 1.2 Finalizar Procesos Específicos:\n",
    "\n",
    "    Modifica el programa anterior para permitir al usuario seleccionar un proceso por su nombre y finalizarlo.\n",
    "    Muestra un mensaje de confirmación si el proceso se finaliza correctamente o un mensaje de error si no se puede finalizar."
   ]
  },
  {
   "cell_type": "code",
   "execution_count": null,
   "metadata": {},
   "outputs": [],
   "source": [
    "def finalizar_proceso(nombre_proceso):\n",
    "    for proc in psutil.process_iter(['pid', 'name']):\n",
    "        try:\n",
    "            if nombre_proceso.lower() == proc.info['name'].lower():\n",
    "                proc.terminate()\n",
    "                proc.wait()  # Espera a que termine\n",
    "                print(f\"Proceso {nombre_proceso} (PID: {proc.info['pid']}) finalizado.\")\n",
    "                return\n",
    "        except (psutil.NoSuchProcess, psutil.AccessDenied):\n",
    "            pass\n",
    "    print(f\"No se pudo finalizar el proceso {nombre_proceso}.\")\n",
    "\n",
    "\n",
    "if __name__ == \"__main__\":\n",
    "    nombre = input(\"Ingrese el nombre del proceso a finalizar: \")\n",
    "    finalizar_proceso(nombre)\n"
   ]
  },
  {
   "cell_type": "markdown",
   "metadata": {},
   "source": [
    "### 2.1 Envío de Mensajes entre Procesos:\n",
    "\n",
    "    Crea un programa que utilice os.fork() para crear un proceso hijo.\n",
    "    El proceso padre debe enviar un mensaje al hijo a través de un pipe, y el proceso hijo debe responder con una versión modificada del mensaje (en mayúsculas).\n",
    "    El padre debe mostrar el mensaje modificado recibido del hijo."
   ]
  },
  {
   "cell_type": "code",
   "execution_count": null,
   "metadata": {},
   "outputs": [],
   "source": [
    "import os       # Import necesario para ejercicio 2"
   ]
  },
  {
   "cell_type": "code",
   "execution_count": null,
   "metadata": {},
   "outputs": [],
   "source": [
    "# (Ejecutado y probado en colab, aquí no funciona por ser Windows)\n",
    "\n",
    "def proceso_padre():\n",
    "    r, w = os.pipe()\n",
    "    pid = os.fork()\n",
    "    \n",
    "    if pid > 0:  # Proceso padre\n",
    "        os.close(r)\n",
    "        mensaje = \"Hola, hijo\"\n",
    "        os.write(w, mensaje.encode())\n",
    "        os.close(w)\n",
    "    else:  # Proceso hijo\n",
    "        os.close(w)\n",
    "        r = os.fdopen(r)\n",
    "        mensaje = r.read()\n",
    "        print(f\"Proceso hijo recibió: {mensaje}\")\n",
    "        print(f\"Respuesta modificada: {mensaje.upper()}\")\n",
    "        r.close()\n",
    "\n",
    "\n",
    "if __name__ == \"__main__\":\n",
    "    proceso_padre()\n"
   ]
  },
  {
   "cell_type": "markdown",
   "metadata": {},
   "source": [
    "### 2.2 Intercambio de Archivos:\n",
    "\n",
    "    Extiende el programa anterior para que el proceso padre envíe el contenido de un archivo de texto al hijo a través del pipe.\n",
    "    El proceso hijo debe contar el número de líneas y palabras del archivo y enviar esa información de vuelta al padre."
   ]
  },
  {
   "cell_type": "code",
   "execution_count": null,
   "metadata": {},
   "outputs": [],
   "source": [
    "# ¿Como puedo probar si está bien? Preguntar\n",
    "\n",
    "def proceso_padre_archivo(ruta_archivo):\n",
    "    r, w = os.pipe()\n",
    "    pid = os.fork()\n",
    "\n",
    "    if pid > 0:  # Proceso padre\n",
    "        os.close(r)\n",
    "        with open(ruta_archivo, 'r') as file:\n",
    "            contenido = file.read()\n",
    "        os.write(w, contenido.encode())\n",
    "        os.close(w)\n",
    "    else:  # Proceso hijo\n",
    "        os.close(w)\n",
    "        r = os.fdopen(r)\n",
    "        contenido = r.read()\n",
    "        lineas = contenido.count('\\n')\n",
    "        palabras = len(contenido.split())\n",
    "        print(f\"Proceso hijo: {lineas} líneas, {palabras} palabras\")\n",
    "        r.close()\n",
    "\n",
    "if __name__ == \"__main__\":\n",
    "    proceso_padre_archivo(\"archivo.txt\")\n"
   ]
  },
  {
   "cell_type": "markdown",
   "metadata": {},
   "source": [
    "### 3. Comparación de Ejecución:\n",
    "        Crea un programa que ejecute el Bloc de notas (Notepad.exe) de manera síncrona y asíncrona.\n",
    "        Mide y muestra el tiempo de ejecución en ambos casos para ilustrar la diferencia entre la ejecución bloqueante y no bloqueante.\n",
    "        El programa debe permitir al usuario elegir entre ejecución síncrona o asíncrona."
   ]
  },
  {
   "cell_type": "code",
   "execution_count": null,
   "metadata": {},
   "outputs": [],
   "source": [
    "# imports de ejercicio 3\n",
    "\n",
    "import subprocess\n",
    "import time\n",
    "import asyncio"
   ]
  },
  {
   "cell_type": "code",
   "execution_count": null,
   "metadata": {},
   "outputs": [],
   "source": [
    "def ejecutar_sincronamente():       \n",
    "    start_time = time.time()\n",
    "    print(\"Ejecución del NotePad síncrona\")\n",
    "    subprocess.run([\"notepad.exe\"])         # Hasta que no cierre el block de notas no paso de esta línea\n",
    "    print(f\"Tiempo de ejecución síncrona: {time.time() - start_time:.2f} segundos\")     \n",
    "\n",
    "async def ejecutar_asincronamente():\n",
    "    start_time = time.time()\n",
    "    print(\"Ejecución del NotePad asíncrona\")\n",
    "    try:\n",
    "        await asyncio.create_subprocess_exec('notepad.exe')          # En cuanto se lea la línea pasa a la siguiente (entendiéndose que si va bien la siguiente es el print, no el except)\n",
    "    except subprocess.CalledProcessError as e:\n",
    "        print(e.output)    \n",
    "    print(f\"Tiempo de ejecución asíncrona: {time.time() - start_time:.2f} segundos\")\n",
    "\n",
    "if __name__ == \"__main__\":\n",
    "\n",
    "    ejecutar_sincronamente()\n",
    "\n",
    "    await ejecutar_asincronamente()\n"
   ]
  },
  {
   "cell_type": "markdown",
   "metadata": {},
   "source": [
    "### 4: Transferencia de Datos y Manipulación del Portapapeles (30-45 minutos)\n",
    "\n",
    "    Automatización con FTP y Portapapeles:\n",
    "        Escribe un programa que se conecte a un servidor FTP público utilizando subprocess.Popen(), realice una autenticación y descargue un archivo.\n",
    "        El contenido del archivo descargado debe ser copiado al portapapeles.\n",
    "        Implementa la verificación periódica del portapapeles para detectar si el contenido ha cambiado. Si es así, muestra un mensaje en la consola."
   ]
  },
  {
   "cell_type": "code",
   "execution_count": null,
   "metadata": {},
   "outputs": [],
   "source": [
    "# imports de ejercicio 4\n",
    "\n",
    "import subprocess"
   ]
  },
  {
   "cell_type": "code",
   "execution_count": null,
   "metadata": {},
   "outputs": [
    {
     "name": "stdout",
     "output_type": "stream",
     "text": [
      "Modo detallado Activo .\n",
      "Conectado a test.rebex.net.\n",
      "220-Welcome to test.rebex.net!\n",
      "    See https://test.rebex.net/ for more information and terms of use.\n",
      "220 If you don't have an account, log in as 'anonymous' or 'ftp'.\n",
      "200 Enabled UTF-8 encoding.\n",
      "Usuario (test.rebex.net:(none)): 331 Anonymous login OK, send your complete email address as your password.\n",
      "Contraseña: \n",
      "230 User 'demo' logged in.\n",
      "200 'PORT' OK.\n",
      "150 Opening 'BINARY' data connection.\n",
      "pub\n",
      "readme.txt\n",
      "226 Transfer complete.\n",
      "ftp: 20 bytes recibidos en 0.00segundos 20000.00a KB/s.\n",
      "200 'PORT' OK.\n",
      "150 Opening 'BINARY' data connection.\n",
      "226 Transfer complete.\n",
      "ftp: 379 bytes recibidos en 0.00segundos 379000.00a KB/s.\n",
      "221 Closing session.\n",
      "\n"
     ]
    }
   ],
   "source": [
    "# Parte a\n",
    "\n",
    "p1 = subprocess.Popen('ftp', shell=True, stdin=subprocess.PIPE, stdout=subprocess.PIPE, stderr=subprocess.PIPE)\n",
    "\n",
    "comandos = [b\"verbose\\n\",             \n",
    "            b\"open test.rebex.net\\n\", \n",
    "            b\"demo\\n\",                \n",
    "            b\"password\\n\",            \n",
    "            b\"ls\\n\",                 \n",
    "            b\"get readme.txt\\n\"]   \n",
    "\n",
    "for cmd in comandos:\n",
    "    p1.stdin.write(cmd) \n",
    "\n",
    "respuesta = p1.communicate(timeout=5)[0]\n",
    "\n",
    "print(respuesta.decode(\"cp850\", \"ignore\"))\n"
   ]
  },
  {
   "cell_type": "code",
   "execution_count": null,
   "metadata": {},
   "outputs": [
    {
     "name": "stdout",
     "output_type": "stream",
     "text": [
      "0\n",
      "Monitoreando portapapeles...\n",
      "¡El portapapeles ha cambiado!\n",
      "Nuevo contenido: salir.\n",
      "Para salir copie al portapapeles \"Salir\"\n"
     ]
    }
   ],
   "source": [
    "# Parte b\n",
    "\n",
    "def copiar_porta(texto):\n",
    "    p = subprocess.run('clip', input=texto.strip(), text=True, shell=True)\n",
    "    return p.returncode     # 0 bien, else mal\n",
    "\n",
    "with open(\"readme.txt\", 'r') as fichero:  # Usar with para manejar el archivo\n",
    "    x = fichero.read()\n",
    "    print(copiar_porta(x) )     # Para comprobar que funciona\n",
    "\n",
    "\n",
    "# Parte \n",
    "\n",
    "import pyperclip\n",
    "import time\n",
    "\n",
    "def monitor_portapapeles():\n",
    "    ultimo_contenido = pyperclip.paste()  # Obtener el contenido inicial del portapapeles\n",
    "    print(\"Monitoreando portapapeles...\")\n",
    "\n",
    "    while ultimo_contenido!=\"Salir\".casefold():     # casefold() hace que me de igual si tiene mayúsculas o minúsculas\n",
    "        time.sleep(1)  # Esperar 1 segundo entre verificaciones\n",
    "        contenido_actual = pyperclip.paste()\n",
    "\n",
    "        if contenido_actual != ultimo_contenido:\n",
    "            print(f\"¡El portapapeles ha cambiado!\\nNuevo contenido: {contenido_actual}.\\nPara salir copie al portapapeles \\\"Salir\\\"\")\n",
    "            ultimo_contenido = contenido_actual  # Actualizar el último contenido\n",
    "\n",
    "if __name__ == \"__main__\":\n",
    "    monitor_portapapeles()\n"
   ]
  }
 ],
 "metadata": {
  "kernelspec": {
   "display_name": "base",
   "language": "python",
   "name": "python3"
  },
  "language_info": {
   "codemirror_mode": {
    "name": "ipython",
    "version": 3
   },
   "file_extension": ".py",
   "mimetype": "text/x-python",
   "name": "python",
   "nbconvert_exporter": "python",
   "pygments_lexer": "ipython3",
   "version": "3.12.4"
  }
 },
 "nbformat": 4,
 "nbformat_minor": 2
}
